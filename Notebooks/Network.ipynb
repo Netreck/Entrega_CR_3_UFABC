{
 "cells": [
  {
   "cell_type": "code",
   "execution_count": 1,
   "metadata": {},
   "outputs": [
    {
     "name": "stdout",
     "output_type": "stream",
     "text": [
      "Requirement already satisfied: pyvis in c:\\users\\t-gamer\\appdata\\local\\packages\\pythonsoftwarefoundation.python.3.9_qbz5n2kfra8p0\\localcache\\local-packages\\python39\\site-packages (0.3.2)\n",
      "Requirement already satisfied: jinja2>=2.9.6 in c:\\users\\t-gamer\\appdata\\local\\packages\\pythonsoftwarefoundation.python.3.9_qbz5n2kfra8p0\\localcache\\local-packages\\python39\\site-packages (from pyvis) (3.1.3)\n",
      "Requirement already satisfied: networkx>=1.11 in c:\\users\\t-gamer\\appdata\\local\\packages\\pythonsoftwarefoundation.python.3.9_qbz5n2kfra8p0\\localcache\\local-packages\\python39\\site-packages (from pyvis) (3.2.1)\n",
      "Requirement already satisfied: jsonpickle>=1.4.1 in c:\\users\\t-gamer\\appdata\\local\\packages\\pythonsoftwarefoundation.python.3.9_qbz5n2kfra8p0\\localcache\\local-packages\\python39\\site-packages (from pyvis) (3.2.2)\n",
      "Requirement already satisfied: ipython>=5.3.0 in c:\\users\\t-gamer\\appdata\\local\\packages\\pythonsoftwarefoundation.python.3.9_qbz5n2kfra8p0\\localcache\\local-packages\\python39\\site-packages (from pyvis) (8.18.1)\n",
      "Requirement already satisfied: matplotlib-inline in c:\\users\\t-gamer\\appdata\\local\\packages\\pythonsoftwarefoundation.python.3.9_qbz5n2kfra8p0\\localcache\\local-packages\\python39\\site-packages (from ipython>=5.3.0->pyvis) (0.1.6)\n",
      "Requirement already satisfied: stack-data in c:\\users\\t-gamer\\appdata\\local\\packages\\pythonsoftwarefoundation.python.3.9_qbz5n2kfra8p0\\localcache\\local-packages\\python39\\site-packages (from ipython>=5.3.0->pyvis) (0.6.3)\n",
      "Requirement already satisfied: decorator in c:\\users\\t-gamer\\appdata\\local\\packages\\pythonsoftwarefoundation.python.3.9_qbz5n2kfra8p0\\localcache\\local-packages\\python39\\site-packages (from ipython>=5.3.0->pyvis) (5.1.1)\n",
      "Requirement already satisfied: colorama in c:\\users\\t-gamer\\appdata\\local\\packages\\pythonsoftwarefoundation.python.3.9_qbz5n2kfra8p0\\localcache\\local-packages\\python39\\site-packages (from ipython>=5.3.0->pyvis) (0.4.6)\n",
      "Requirement already satisfied: traitlets>=5 in c:\\users\\t-gamer\\appdata\\local\\packages\\pythonsoftwarefoundation.python.3.9_qbz5n2kfra8p0\\localcache\\local-packages\\python39\\site-packages (from ipython>=5.3.0->pyvis) (5.14.1)\n",
      "Requirement already satisfied: prompt-toolkit<3.1.0,>=3.0.41 in c:\\users\\t-gamer\\appdata\\local\\packages\\pythonsoftwarefoundation.python.3.9_qbz5n2kfra8p0\\localcache\\local-packages\\python39\\site-packages (from ipython>=5.3.0->pyvis) (3.0.43)\n",
      "Requirement already satisfied: pygments>=2.4.0 in c:\\users\\t-gamer\\appdata\\local\\packages\\pythonsoftwarefoundation.python.3.9_qbz5n2kfra8p0\\localcache\\local-packages\\python39\\site-packages (from ipython>=5.3.0->pyvis) (2.17.2)\n",
      "Requirement already satisfied: exceptiongroup in c:\\users\\t-gamer\\appdata\\local\\packages\\pythonsoftwarefoundation.python.3.9_qbz5n2kfra8p0\\localcache\\local-packages\\python39\\site-packages (from ipython>=5.3.0->pyvis) (1.1.3)\n",
      "Requirement already satisfied: typing-extensions in c:\\users\\t-gamer\\appdata\\local\\packages\\pythonsoftwarefoundation.python.3.9_qbz5n2kfra8p0\\localcache\\local-packages\\python39\\site-packages (from ipython>=5.3.0->pyvis) (4.9.0)\n",
      "Requirement already satisfied: jedi>=0.16 in c:\\users\\t-gamer\\appdata\\local\\packages\\pythonsoftwarefoundation.python.3.9_qbz5n2kfra8p0\\localcache\\local-packages\\python39\\site-packages (from ipython>=5.3.0->pyvis) (0.19.1)\n",
      "Requirement already satisfied: MarkupSafe>=2.0 in c:\\users\\t-gamer\\appdata\\local\\packages\\pythonsoftwarefoundation.python.3.9_qbz5n2kfra8p0\\localcache\\local-packages\\python39\\site-packages (from jinja2>=2.9.6->pyvis) (2.1.5)\n",
      "Requirement already satisfied: parso<0.9.0,>=0.8.3 in c:\\users\\t-gamer\\appdata\\local\\packages\\pythonsoftwarefoundation.python.3.9_qbz5n2kfra8p0\\localcache\\local-packages\\python39\\site-packages (from jedi>=0.16->ipython>=5.3.0->pyvis) (0.8.3)\n",
      "Requirement already satisfied: wcwidth in c:\\users\\t-gamer\\appdata\\local\\packages\\pythonsoftwarefoundation.python.3.9_qbz5n2kfra8p0\\localcache\\local-packages\\python39\\site-packages (from prompt-toolkit<3.1.0,>=3.0.41->ipython>=5.3.0->pyvis) (0.2.13)\n",
      "Requirement already satisfied: pure-eval in c:\\users\\t-gamer\\appdata\\local\\packages\\pythonsoftwarefoundation.python.3.9_qbz5n2kfra8p0\\localcache\\local-packages\\python39\\site-packages (from stack-data->ipython>=5.3.0->pyvis) (0.2.2)\n",
      "Requirement already satisfied: executing>=1.2.0 in c:\\users\\t-gamer\\appdata\\local\\packages\\pythonsoftwarefoundation.python.3.9_qbz5n2kfra8p0\\localcache\\local-packages\\python39\\site-packages (from stack-data->ipython>=5.3.0->pyvis) (2.0.1)\n",
      "Requirement already satisfied: asttokens>=2.1.0 in c:\\users\\t-gamer\\appdata\\local\\packages\\pythonsoftwarefoundation.python.3.9_qbz5n2kfra8p0\\localcache\\local-packages\\python39\\site-packages (from stack-data->ipython>=5.3.0->pyvis) (2.4.1)\n",
      "Requirement already satisfied: six>=1.12.0 in c:\\users\\t-gamer\\appdata\\local\\packages\\pythonsoftwarefoundation.python.3.9_qbz5n2kfra8p0\\localcache\\local-packages\\python39\\site-packages (from asttokens>=2.1.0->stack-data->ipython>=5.3.0->pyvis) (1.16.0)\n",
      "Note: you may need to restart the kernel to use updated packages.\n"
     ]
    },
    {
     "name": "stderr",
     "output_type": "stream",
     "text": [
      "WARNING: You are using pip version 22.0.4; however, version 24.1.2 is available.\n",
      "You should consider upgrading via the 'C:\\Users\\T-GAMER\\AppData\\Local\\Microsoft\\WindowsApps\\PythonSoftwareFoundation.Python.3.9_qbz5n2kfra8p0\\python.exe -m pip install --upgrade pip' command.\n"
     ]
    }
   ],
   "source": [
    "pip install pyvis"
   ]
  },
  {
   "cell_type": "code",
   "execution_count": 2,
   "metadata": {},
   "outputs": [
    {
     "name": "stdout",
     "output_type": "stream",
     "text": [
      "Collecting python-louvain\n",
      "  Downloading python-louvain-0.16.tar.gz (204 kB)\n",
      "     -------------------------------------- 204.6/204.6 KB 2.5 MB/s eta 0:00:00\n",
      "  Preparing metadata (setup.py): started\n",
      "  Preparing metadata (setup.py): finished with status 'done'\n",
      "Requirement already satisfied: networkx in c:\\users\\t-gamer\\appdata\\local\\packages\\pythonsoftwarefoundation.python.3.9_qbz5n2kfra8p0\\localcache\\local-packages\\python39\\site-packages (from python-louvain) (3.2.1)\n",
      "Requirement already satisfied: numpy in c:\\users\\t-gamer\\appdata\\local\\packages\\pythonsoftwarefoundation.python.3.9_qbz5n2kfra8p0\\localcache\\local-packages\\python39\\site-packages (from python-louvain) (1.23.5)\n",
      "Building wheels for collected packages: python-louvain\n",
      "  Building wheel for python-louvain (setup.py): started\n",
      "  Building wheel for python-louvain (setup.py): finished with status 'done'\n",
      "  Created wheel for python-louvain: filename=python_louvain-0.16-py3-none-any.whl size=9418 sha256=1feb1823caef868b48f49ad1a306c0b282aea6cc13ef95d7227b0cc52d6af401\n",
      "  Stored in directory: c:\\users\\t-gamer\\appdata\\local\\pip\\cache\\wheels\\4d\\7c\\b6\\79b198e4ec43f915fbdf967953d48b89a18893b12aa9df0ae2\n",
      "Successfully built python-louvain\n",
      "Installing collected packages: python-louvain\n",
      "Successfully installed python-louvain-0.16\n",
      "Note: you may need to restart the kernel to use updated packages.\n"
     ]
    },
    {
     "name": "stderr",
     "output_type": "stream",
     "text": [
      "WARNING: You are using pip version 22.0.4; however, version 24.1.2 is available.\n",
      "You should consider upgrading via the 'C:\\Users\\T-GAMER\\AppData\\Local\\Microsoft\\WindowsApps\\PythonSoftwareFoundation.Python.3.9_qbz5n2kfra8p0\\python.exe -m pip install --upgrade pip' command.\n"
     ]
    }
   ],
   "source": [
    "pip install python-louvain"
   ]
  },
  {
   "cell_type": "code",
   "execution_count": 2,
   "metadata": {},
   "outputs": [],
   "source": [
    "import pandas as pd\n",
    "import numpy as np\n",
    "from pyvis.network import Network\n",
    "import networkx as nx\n",
    "import community\n",
    "import matplotlib.pyplot as plt"
   ]
  },
  {
   "cell_type": "code",
   "execution_count": 4,
   "metadata": {},
   "outputs": [],
   "source": [
    "relationship_df = pd.read_csv('../Data/relationship_percy')"
   ]
  },
  {
   "cell_type": "markdown",
   "metadata": {},
   "source": [
    "# GRAFO EM HTML"
   ]
  },
  {
   "cell_type": "code",
   "execution_count": 7,
   "metadata": {},
   "outputs": [
    {
     "name": "stdout",
     "output_type": "stream",
     "text": [
      "Warning: When  cdn_resources is 'local' jupyter notebook has issues displaying graphics on chrome/safari. Use cdn_resources='in_line' or cdn_resources='remote' if you have issues viewing graphics in a notebook.\n",
      "Percy_Grafo.html\n"
     ]
    },
    {
     "data": {
      "text/html": [
       "\n",
       "        <iframe\n",
       "            width=\"1000px\"\n",
       "            height=\"1000px\"\n",
       "            src=\"Percy_Grafo.html\"\n",
       "            frameborder=\"0\"\n",
       "            allowfullscreen\n",
       "            \n",
       "        ></iframe>\n",
       "        "
      ],
      "text/plain": [
       "<IPython.lib.display.IFrame at 0x131f614adc0>"
      ]
     },
     "execution_count": 7,
     "metadata": {},
     "output_type": "execute_result"
    }
   ],
   "source": [
    "# 1. Create a graph from a pandas dataframe\n",
    "G = nx.from_pandas_edgelist(relationship_df,\n",
    "                            source = \"Source\",\n",
    "                            target = \"Target\",\n",
    "                            edge_attr = \"Weight\",\n",
    "                            create_using = nx.Graph())\n",
    "\n",
    "# 2. Calculate communities using Louvain\n",
    "communities = list(nx.algorithms.community.louvain_communities(G))\n",
    "\n",
    "# Convert communities from sets to lists\n",
    "communities_dict = {}\n",
    "for i, community in enumerate(communities):\n",
    "    for node in community:\n",
    "        communities_dict[node] = i\n",
    "\n",
    "# 3. Calculate size of each node using Weight\n",
    "node_degree = dict(G.degree)\n",
    "\n",
    "# 4. Set up node attributes\n",
    "nx.set_node_attributes(G, node_degree, 'size') # Size for each node\n",
    "nx.set_node_attributes(G, communities_dict, 'group') # Group the nodes to be communitites\n",
    "\n",
    "# 5. Build Interactive Network using Pyvis\n",
    "net = Network(notebook=True, width=\"1000px\", height=\"1000px\", bgcolor='#222222', font_color='White')\n",
    "# Set layout to spring\n",
    "net.barnes_hut(gravity=-2000, central_gravity=0.3, spring_length=100, spring_strength=0.01)\n",
    "\n",
    "# 6. Display the Network\n",
    "net.from_nx(G)\n",
    "net.show(\"Percy_Grafo.html\")"
   ]
  },
  {
   "cell_type": "markdown",
   "metadata": {},
   "source": [
    "# Relações"
   ]
  },
  {
   "cell_type": "code",
   "execution_count": 8,
   "metadata": {},
   "outputs": [],
   "source": [
    "degree_centrality = nx.degree_centrality(G)\n",
    "closeness_centrality = nx.closeness_centrality(G)\n",
    "betweenness_centrality = nx.betweenness_centrality(G)\n",
    "\n",
    "\n"
   ]
  },
  {
   "cell_type": "code",
   "execution_count": 10,
   "metadata": {},
   "outputs": [
    {
     "data": {
      "text/plain": [
       "{'Grover': 0.9285714285714285,\n",
       " 'Annabeth': 0.8571428571428571,\n",
       " 'Percy': 0.8214285714285714,\n",
       " 'Chiron': 0.75,\n",
       " 'Zeus': 0.6428571428571428,\n",
       " 'Ares': 0.6428571428571428,\n",
       " 'Hades': 0.6428571428571428,\n",
       " 'Poseidon': 0.6071428571428571,\n",
       " 'Athena': 0.5357142857142857,\n",
       " 'Luke': 0.5,\n",
       " 'Clarisse': 0.42857142857142855,\n",
       " 'Gabe': 0.42857142857142855,\n",
       " 'Hermes': 0.39285714285714285,\n",
       " 'Oracle': 0.3571428571428571,\n",
       " 'Minotaur': 0.3571428571428571,\n",
       " 'Furies': 0.3214285714285714,\n",
       " 'Thalia': 0.3214285714285714,\n",
       " 'Aphrodite': 0.3214285714285714,\n",
       " 'Demeter': 0.2857142857142857,\n",
       " 'Cerberus': 0.25,\n",
       " 'Kronos': 0.25,\n",
       " 'Sally': 0.25,\n",
       " 'Charon': 0.21428571428571427,\n",
       " 'Persephone': 0.21428571428571427,\n",
       " 'Medusa': 0.17857142857142855,\n",
       " 'Hera': 0.14285714285714285,\n",
       " 'Prometheus': 0.10714285714285714,\n",
       " 'Tyson': 0.10714285714285714,\n",
       " 'Hestia': 0.07142857142857142}"
      ]
     },
     "execution_count": 10,
     "metadata": {},
     "output_type": "execute_result"
    }
   ],
   "source": [
    "from operator import itemgetter\n",
    "dict(sorted(degree_centrality.items(), key=itemgetter(1), reverse=True))"
   ]
  },
  {
   "cell_type": "code",
   "execution_count": 11,
   "metadata": {},
   "outputs": [
    {
     "data": {
      "text/plain": [
       "{'Grover': 0.9333333333333333,\n",
       " 'Annabeth': 0.875,\n",
       " 'Percy': 0.8484848484848485,\n",
       " 'Chiron': 0.8,\n",
       " 'Zeus': 0.7368421052631579,\n",
       " 'Ares': 0.7368421052631579,\n",
       " 'Hades': 0.7368421052631579,\n",
       " 'Poseidon': 0.717948717948718,\n",
       " 'Athena': 0.6829268292682927,\n",
       " 'Luke': 0.6511627906976745,\n",
       " 'Clarisse': 0.6222222222222222,\n",
       " 'Gabe': 0.6222222222222222,\n",
       " 'Hermes': 0.6222222222222222,\n",
       " 'Oracle': 0.6086956521739131,\n",
       " 'Furies': 0.5957446808510638,\n",
       " 'Thalia': 0.5957446808510638,\n",
       " 'Minotaur': 0.5957446808510638,\n",
       " 'Aphrodite': 0.5957446808510638,\n",
       " 'Demeter': 0.5833333333333334,\n",
       " 'Cerberus': 0.5714285714285714,\n",
       " 'Kronos': 0.5714285714285714,\n",
       " 'Persephone': 0.56,\n",
       " 'Sally': 0.5490196078431373,\n",
       " 'Charon': 0.5490196078431373,\n",
       " 'Medusa': 0.5283018867924528,\n",
       " 'Prometheus': 0.5283018867924528,\n",
       " 'Tyson': 0.5185185185185185,\n",
       " 'Hera': 0.5185185185185185,\n",
       " 'Hestia': 0.45161290322580644}"
      ]
     },
     "execution_count": 11,
     "metadata": {},
     "output_type": "execute_result"
    }
   ],
   "source": [
    "dict(sorted(closeness_centrality.items(), key=itemgetter(1), reverse=True))\n"
   ]
  },
  {
   "cell_type": "code",
   "execution_count": 12,
   "metadata": {},
   "outputs": [
    {
     "data": {
      "text/plain": [
       "{'Grover': 0.1425994441634031,\n",
       " 'Annabeth': 0.09875968603793069,\n",
       " 'Zeus': 0.09607520099466878,\n",
       " 'Chiron': 0.07802657107045528,\n",
       " 'Percy': 0.07487457643853536,\n",
       " 'Hades': 0.03426631163559268,\n",
       " 'Ares': 0.02956224145533202,\n",
       " 'Demeter': 0.026700648963720854,\n",
       " 'Poseidon': 0.026348986456362734,\n",
       " 'Athena': 0.013351045978263532,\n",
       " 'Luke': 0.007476694381456285,\n",
       " 'Furies': 0.0056988536155202826,\n",
       " 'Hermes': 0.0047410797177370465,\n",
       " 'Gabe': 0.004478553486489994,\n",
       " 'Aphrodite': 0.0028496583818712665,\n",
       " 'Minotaur': 0.002266619330111393,\n",
       " 'Clarisse': 0.0021457965902410346,\n",
       " 'Persephone': 0.001763668430335097,\n",
       " 'Oracle': 0.001698676103438008,\n",
       " 'Hera': 0.001347946586041824,\n",
       " 'Cerberus': 0.001263962375073486,\n",
       " 'Sally': 0.0004850088183421517,\n",
       " 'Charon': 0.0004409171075837742,\n",
       " 'Medusa': 0.00037792894935752074,\n",
       " 'Hestia': 0.00037792894935752074,\n",
       " 'Kronos': 0.00037607635646851327,\n",
       " 'Thalia': 0.00037607635646851327,\n",
       " 'Prometheus': 0.0,\n",
       " 'Tyson': 0.0}"
      ]
     },
     "execution_count": 12,
     "metadata": {},
     "output_type": "execute_result"
    }
   ],
   "source": [
    "dict(sorted(betweenness_centrality.items(), key=itemgetter(1), reverse=True))\n"
   ]
  },
  {
   "cell_type": "code",
   "execution_count": 13,
   "metadata": {},
   "outputs": [
    {
     "name": "stdout",
     "output_type": "stream",
     "text": [
      "Modularidade da rede: 0.11206927462440391\n"
     ]
    }
   ],
   "source": [
    "import community as community_louvain\n",
    "partition = community_louvain.best_partition(G)\n",
    "\n",
    "# Calcular a modularidade\n",
    "modularity = community_louvain.modularity(partition, G)\n",
    "print(\"Modularidade da rede:\", modularity)"
   ]
  },
  {
   "cell_type": "code",
   "execution_count": 14,
   "metadata": {},
   "outputs": [
    {
     "name": "stdout",
     "output_type": "stream",
     "text": [
      "Diâmetro da rede: 3\n"
     ]
    }
   ],
   "source": [
    "diameter = nx.diameter(G)\n",
    "print(\"Diâmetro da rede:\", diameter)"
   ]
  },
  {
   "cell_type": "code",
   "execution_count": 22,
   "metadata": {},
   "outputs": [
    {
     "name": "stdout",
     "output_type": "stream",
     "text": [
      "Comprimento médio do menor caminho da rede: 1.6133004926108374\n"
     ]
    }
   ],
   "source": [
    "if nx.is_connected(G):\n",
    "    average_shortest_path_length = nx.average_shortest_path_length(G)\n",
    "    print(\"Comprimento médio do menor caminho da rede:\", average_shortest_path_length)\n",
    "else:\n",
    "    # Se o grafo não for conexo, calcular para cada componente conectado\n",
    "    lengths = [nx.average_shortest_path_length(component) for component in nx.connected_components(G)]\n",
    "    print(\"Comprimento médio do menor caminho para componentes conectados:\", lengths)"
   ]
  },
  {
   "cell_type": "code",
   "execution_count": 16,
   "metadata": {},
   "outputs": [
    {
     "name": "stdout",
     "output_type": "stream",
     "text": [
      "Coeficiente de aglomeração para cada nó: {'Annabeth': 0.4601449275362319, 'Grover': 0.4153846153846154, 'Percy': 0.4980237154150198, 'Chiron': 0.5095238095238095, 'Poseidon': 0.6764705882352942, 'Zeus': 0.48366013071895425, 'Ares': 0.6209150326797386, 'Luke': 0.7692307692307693, 'Cerberus': 0.9047619047619048, 'Hades': 0.5816993464052288, 'Athena': 0.7428571428571429, 'Furies': 0.75, 'Clarisse': 0.8939393939393939, 'Gabe': 0.8181818181818182, 'Kronos': 0.9523809523809523, 'Oracle': 0.9111111111111111, 'Medusa': 0.9, 'Hermes': 0.8363636363636363, 'Thalia': 0.9722222222222222, 'Minotaur': 0.8666666666666667, 'Sally': 0.9047619047619048, 'Aphrodite': 0.8333333333333334, 'Charon': 0.9333333333333333, 'Prometheus': 1.0, 'Tyson': 1.0, 'Demeter': 0.39285714285714285, 'Persephone': 0.8, 'Hera': 0.5, 'Hestia': 0}\n"
     ]
    }
   ],
   "source": [
    "clustering_coeffs = nx.clustering(G)\n",
    "print(\"Coeficiente de aglomeração para cada nó:\", clustering_coeffs)"
   ]
  },
  {
   "cell_type": "code",
   "execution_count": 17,
   "metadata": {},
   "outputs": [
    {
     "name": "stdout",
     "output_type": "stream",
     "text": [
      "Coeficiente de aglomeração médio da rede: 0.7216490861344905\n"
     ]
    }
   ],
   "source": [
    "average_clustering = nx.average_clustering(G)\n",
    "print(\"Coeficiente de aglomeração médio da rede:\", average_clustering)"
   ]
  },
  {
   "cell_type": "code",
   "execution_count": 18,
   "metadata": {},
   "outputs": [
    {
     "name": "stdout",
     "output_type": "stream",
     "text": [
      "Número de componentes conectados: 1\n"
     ]
    }
   ],
   "source": [
    "components = list(nx.connected_components(G))\n",
    "num_components = len(components)\n",
    "\n",
    "print(f\"Número de componentes conectados: {num_components}\")"
   ]
  },
  {
   "cell_type": "code",
   "execution_count": 24,
   "metadata": {},
   "outputs": [
    {
     "name": "stdout",
     "output_type": "stream",
     "text": [
      "Coeficiente de aglomeração médio da rede: 0.7216490861344905\n",
      "Número de componentes conectados: 1\n",
      "Comprimento médio do menor caminho da rede: 1.6133004926108374\n",
      "Diâmetro da rede: 3\n",
      "Modularidade da rede: 0.12058517695148627\n"
     ]
    }
   ],
   "source": [
    "print(\"Coeficiente de aglomeração médio da rede:\", average_clustering)\n",
    "print(f\"Número de componentes conectados: {num_components}\")\n",
    "if nx.is_connected(G):\n",
    "    average_shortest_path_length = nx.average_shortest_path_length(G)\n",
    "    print(\"Comprimento médio do menor caminho da rede:\", average_shortest_path_length)\n",
    "else:\n",
    "    # Se o grafo não for conexo, calcular para cada componente conectado\n",
    "    lengths = [nx.average_shortest_path_length(component) for component in nx.connected_components(G)]\n",
    "    print(\"Comprimento médio do menor caminho para componentes conectados:\", lengths)\n",
    "diameter = nx.diameter(G)\n",
    "print(\"Diâmetro da rede:\", diameter)\n",
    "import community as community_louvain\n",
    "partition = community_louvain.best_partition(G)\n",
    "\n",
    "# Calcular a modularidade\n",
    "modularity = community_louvain.modularity(partition, G)\n",
    "print(\"Modularidade da rede:\", modularity)"
   ]
  }
 ],
 "metadata": {
  "kernelspec": {
   "display_name": "Python 3",
   "language": "python",
   "name": "python3"
  },
  "language_info": {
   "codemirror_mode": {
    "name": "ipython",
    "version": 3
   },
   "file_extension": ".py",
   "mimetype": "text/x-python",
   "name": "python",
   "nbconvert_exporter": "python",
   "pygments_lexer": "ipython3",
   "version": "3.9.13"
  }
 },
 "nbformat": 4,
 "nbformat_minor": 2
}
