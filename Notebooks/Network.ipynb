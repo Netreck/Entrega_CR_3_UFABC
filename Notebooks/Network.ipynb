{
 "cells": [
  {
   "cell_type": "code",
   "execution_count": 1,
   "metadata": {},
   "outputs": [
    {
     "name": "stdout",
     "output_type": "stream",
     "text": [
      "Requirement already satisfied: pyvis in c:\\users\\t-gamer\\appdata\\local\\packages\\pythonsoftwarefoundation.python.3.9_qbz5n2kfra8p0\\localcache\\local-packages\\python39\\site-packages (0.3.2)\n",
      "Requirement already satisfied: jinja2>=2.9.6 in c:\\users\\t-gamer\\appdata\\local\\packages\\pythonsoftwarefoundation.python.3.9_qbz5n2kfra8p0\\localcache\\local-packages\\python39\\site-packages (from pyvis) (3.1.3)\n",
      "Requirement already satisfied: networkx>=1.11 in c:\\users\\t-gamer\\appdata\\local\\packages\\pythonsoftwarefoundation.python.3.9_qbz5n2kfra8p0\\localcache\\local-packages\\python39\\site-packages (from pyvis) (3.2.1)\n",
      "Requirement already satisfied: jsonpickle>=1.4.1 in c:\\users\\t-gamer\\appdata\\local\\packages\\pythonsoftwarefoundation.python.3.9_qbz5n2kfra8p0\\localcache\\local-packages\\python39\\site-packages (from pyvis) (3.2.2)\n",
      "Requirement already satisfied: ipython>=5.3.0 in c:\\users\\t-gamer\\appdata\\local\\packages\\pythonsoftwarefoundation.python.3.9_qbz5n2kfra8p0\\localcache\\local-packages\\python39\\site-packages (from pyvis) (8.18.1)\n",
      "Requirement already satisfied: matplotlib-inline in c:\\users\\t-gamer\\appdata\\local\\packages\\pythonsoftwarefoundation.python.3.9_qbz5n2kfra8p0\\localcache\\local-packages\\python39\\site-packages (from ipython>=5.3.0->pyvis) (0.1.6)\n",
      "Requirement already satisfied: stack-data in c:\\users\\t-gamer\\appdata\\local\\packages\\pythonsoftwarefoundation.python.3.9_qbz5n2kfra8p0\\localcache\\local-packages\\python39\\site-packages (from ipython>=5.3.0->pyvis) (0.6.3)\n",
      "Requirement already satisfied: decorator in c:\\users\\t-gamer\\appdata\\local\\packages\\pythonsoftwarefoundation.python.3.9_qbz5n2kfra8p0\\localcache\\local-packages\\python39\\site-packages (from ipython>=5.3.0->pyvis) (5.1.1)\n",
      "Requirement already satisfied: colorama in c:\\users\\t-gamer\\appdata\\local\\packages\\pythonsoftwarefoundation.python.3.9_qbz5n2kfra8p0\\localcache\\local-packages\\python39\\site-packages (from ipython>=5.3.0->pyvis) (0.4.6)\n",
      "Requirement already satisfied: traitlets>=5 in c:\\users\\t-gamer\\appdata\\local\\packages\\pythonsoftwarefoundation.python.3.9_qbz5n2kfra8p0\\localcache\\local-packages\\python39\\site-packages (from ipython>=5.3.0->pyvis) (5.14.1)\n",
      "Requirement already satisfied: prompt-toolkit<3.1.0,>=3.0.41 in c:\\users\\t-gamer\\appdata\\local\\packages\\pythonsoftwarefoundation.python.3.9_qbz5n2kfra8p0\\localcache\\local-packages\\python39\\site-packages (from ipython>=5.3.0->pyvis) (3.0.43)\n",
      "Requirement already satisfied: pygments>=2.4.0 in c:\\users\\t-gamer\\appdata\\local\\packages\\pythonsoftwarefoundation.python.3.9_qbz5n2kfra8p0\\localcache\\local-packages\\python39\\site-packages (from ipython>=5.3.0->pyvis) (2.17.2)\n",
      "Requirement already satisfied: exceptiongroup in c:\\users\\t-gamer\\appdata\\local\\packages\\pythonsoftwarefoundation.python.3.9_qbz5n2kfra8p0\\localcache\\local-packages\\python39\\site-packages (from ipython>=5.3.0->pyvis) (1.1.3)\n",
      "Requirement already satisfied: typing-extensions in c:\\users\\t-gamer\\appdata\\local\\packages\\pythonsoftwarefoundation.python.3.9_qbz5n2kfra8p0\\localcache\\local-packages\\python39\\site-packages (from ipython>=5.3.0->pyvis) (4.9.0)\n",
      "Requirement already satisfied: jedi>=0.16 in c:\\users\\t-gamer\\appdata\\local\\packages\\pythonsoftwarefoundation.python.3.9_qbz5n2kfra8p0\\localcache\\local-packages\\python39\\site-packages (from ipython>=5.3.0->pyvis) (0.19.1)\n",
      "Requirement already satisfied: MarkupSafe>=2.0 in c:\\users\\t-gamer\\appdata\\local\\packages\\pythonsoftwarefoundation.python.3.9_qbz5n2kfra8p0\\localcache\\local-packages\\python39\\site-packages (from jinja2>=2.9.6->pyvis) (2.1.5)\n",
      "Requirement already satisfied: parso<0.9.0,>=0.8.3 in c:\\users\\t-gamer\\appdata\\local\\packages\\pythonsoftwarefoundation.python.3.9_qbz5n2kfra8p0\\localcache\\local-packages\\python39\\site-packages (from jedi>=0.16->ipython>=5.3.0->pyvis) (0.8.3)\n",
      "Requirement already satisfied: wcwidth in c:\\users\\t-gamer\\appdata\\local\\packages\\pythonsoftwarefoundation.python.3.9_qbz5n2kfra8p0\\localcache\\local-packages\\python39\\site-packages (from prompt-toolkit<3.1.0,>=3.0.41->ipython>=5.3.0->pyvis) (0.2.13)\n",
      "Requirement already satisfied: pure-eval in c:\\users\\t-gamer\\appdata\\local\\packages\\pythonsoftwarefoundation.python.3.9_qbz5n2kfra8p0\\localcache\\local-packages\\python39\\site-packages (from stack-data->ipython>=5.3.0->pyvis) (0.2.2)\n",
      "Requirement already satisfied: executing>=1.2.0 in c:\\users\\t-gamer\\appdata\\local\\packages\\pythonsoftwarefoundation.python.3.9_qbz5n2kfra8p0\\localcache\\local-packages\\python39\\site-packages (from stack-data->ipython>=5.3.0->pyvis) (2.0.1)\n",
      "Requirement already satisfied: asttokens>=2.1.0 in c:\\users\\t-gamer\\appdata\\local\\packages\\pythonsoftwarefoundation.python.3.9_qbz5n2kfra8p0\\localcache\\local-packages\\python39\\site-packages (from stack-data->ipython>=5.3.0->pyvis) (2.4.1)\n",
      "Requirement already satisfied: six>=1.12.0 in c:\\users\\t-gamer\\appdata\\local\\packages\\pythonsoftwarefoundation.python.3.9_qbz5n2kfra8p0\\localcache\\local-packages\\python39\\site-packages (from asttokens>=2.1.0->stack-data->ipython>=5.3.0->pyvis) (1.16.0)\n",
      "Note: you may need to restart the kernel to use updated packages.\n"
     ]
    },
    {
     "name": "stderr",
     "output_type": "stream",
     "text": [
      "WARNING: You are using pip version 22.0.4; however, version 24.1.2 is available.\n",
      "You should consider upgrading via the 'C:\\Users\\T-GAMER\\AppData\\Local\\Microsoft\\WindowsApps\\PythonSoftwareFoundation.Python.3.9_qbz5n2kfra8p0\\python.exe -m pip install --upgrade pip' command.\n"
     ]
    }
   ],
   "source": [
    "pip install pyvis"
   ]
  },
  {
   "cell_type": "code",
   "execution_count": 2,
   "metadata": {},
   "outputs": [
    {
     "name": "stdout",
     "output_type": "stream",
     "text": [
      "Collecting python-louvain\n",
      "  Downloading python-louvain-0.16.tar.gz (204 kB)\n",
      "     -------------------------------------- 204.6/204.6 KB 2.5 MB/s eta 0:00:00\n",
      "  Preparing metadata (setup.py): started\n",
      "  Preparing metadata (setup.py): finished with status 'done'\n",
      "Requirement already satisfied: networkx in c:\\users\\t-gamer\\appdata\\local\\packages\\pythonsoftwarefoundation.python.3.9_qbz5n2kfra8p0\\localcache\\local-packages\\python39\\site-packages (from python-louvain) (3.2.1)\n",
      "Requirement already satisfied: numpy in c:\\users\\t-gamer\\appdata\\local\\packages\\pythonsoftwarefoundation.python.3.9_qbz5n2kfra8p0\\localcache\\local-packages\\python39\\site-packages (from python-louvain) (1.23.5)\n",
      "Building wheels for collected packages: python-louvain\n",
      "  Building wheel for python-louvain (setup.py): started\n",
      "  Building wheel for python-louvain (setup.py): finished with status 'done'\n",
      "  Created wheel for python-louvain: filename=python_louvain-0.16-py3-none-any.whl size=9418 sha256=1feb1823caef868b48f49ad1a306c0b282aea6cc13ef95d7227b0cc52d6af401\n",
      "  Stored in directory: c:\\users\\t-gamer\\appdata\\local\\pip\\cache\\wheels\\4d\\7c\\b6\\79b198e4ec43f915fbdf967953d48b89a18893b12aa9df0ae2\n",
      "Successfully built python-louvain\n",
      "Installing collected packages: python-louvain\n",
      "Successfully installed python-louvain-0.16\n",
      "Note: you may need to restart the kernel to use updated packages.\n"
     ]
    },
    {
     "name": "stderr",
     "output_type": "stream",
     "text": [
      "WARNING: You are using pip version 22.0.4; however, version 24.1.2 is available.\n",
      "You should consider upgrading via the 'C:\\Users\\T-GAMER\\AppData\\Local\\Microsoft\\WindowsApps\\PythonSoftwareFoundation.Python.3.9_qbz5n2kfra8p0\\python.exe -m pip install --upgrade pip' command.\n"
     ]
    }
   ],
   "source": [
    "pip install python-louvain"
   ]
  },
  {
   "cell_type": "code",
   "execution_count": 2,
   "metadata": {},
   "outputs": [],
   "source": [
    "import pandas as pd\n",
    "import numpy as np\n",
    "from pyvis.network import Network\n",
    "import networkx as nx\n",
    "import community\n",
    "import matplotlib.pyplot as plt"
   ]
  },
  {
   "cell_type": "code",
   "execution_count": 4,
   "metadata": {},
   "outputs": [],
   "source": [
    "relationship_df = pd.read_csv('../Data/relationship_percy')"
   ]
  },
  {
   "cell_type": "markdown",
   "metadata": {},
   "source": [
    "# GRAFO EM HTML"
   ]
  },
  {
   "cell_type": "code",
   "execution_count": 6,
   "metadata": {},
   "outputs": [
    {
     "name": "stdout",
     "output_type": "stream",
     "text": [
      "Warning: When  cdn_resources is 'local' jupyter notebook has issues displaying graphics on chrome/safari. Use cdn_resources='in_line' or cdn_resources='remote' if you have issues viewing graphics in a notebook.\n",
      "Percy_Grafo_copiar.html\n"
     ]
    },
    {
     "data": {
      "text/html": [
       "\n",
       "        <iframe\n",
       "            width=\"1000px\"\n",
       "            height=\"1000px\"\n",
       "            src=\"Percy_Grafo_copiar.html\"\n",
       "            frameborder=\"0\"\n",
       "            allowfullscreen\n",
       "            \n",
       "        ></iframe>\n",
       "        "
      ],
      "text/plain": [
       "<IPython.lib.display.IFrame at 0x131f613ef70>"
      ]
     },
     "execution_count": 6,
     "metadata": {},
     "output_type": "execute_result"
    }
   ],
   "source": [
    "# 1. Create a graph from a pandas dataframe\n",
    "G = nx.from_pandas_edgelist(relationship_df,\n",
    "                            source = \"Source\",\n",
    "                            target = \"Target\",\n",
    "                            edge_attr = \"Weight\",\n",
    "                            create_using = nx.Graph())\n",
    "\n",
    "# 2. Calculate communities using Louvain\n",
    "communities = list(nx.algorithms.community.louvain_communities(G))\n",
    "\n",
    "# Convert communities from sets to lists\n",
    "communities_dict = {}\n",
    "for i, community in enumerate(communities):\n",
    "    for node in community:\n",
    "        communities_dict[node] = i\n",
    "\n",
    "# 3. Calculate size of each node using Weight\n",
    "node_degree = dict(G.degree)\n",
    "\n",
    "# 4. Set up node attributes\n",
    "nx.set_node_attributes(G, node_degree, 'size') # Size for each node\n",
    "nx.set_node_attributes(G, communities_dict, 'group') # Group the nodes to be communitites\n",
    "\n",
    "# 5. Build Interactive Network using Pyvis\n",
    "net = Network(notebook=True, width=\"1000px\", height=\"1000px\", bgcolor='#222222', font_color='White')\n",
    "# Set layout to spring\n",
    "net.barnes_hut(gravity=-2000, central_gravity=0.3, spring_length=100, spring_strength=0.01)\n",
    "\n",
    "# 6. Display the Network\n",
    "net.from_nx(G)\n",
    "net.show(\"Percy_Grafo.html\")"
   ]
  },
  {
   "cell_type": "markdown",
   "metadata": {},
   "source": [
    "# Relações"
   ]
  },
  {
   "cell_type": "code",
   "execution_count": 14,
   "metadata": {},
   "outputs": [],
   "source": [
    "degree_centrality = nx.degree_centrality(G)\n",
    "closeness_centrality = nx.closeness_centrality(G)\n",
    "betweenness_centrality = nx.betweenness_centrality(G)\n",
    "\n",
    "\n"
   ]
  },
  {
   "cell_type": "code",
   "execution_count": 21,
   "metadata": {},
   "outputs": [
    {
     "data": {
      "text/plain": [
       "{'Annabeth': 0.9090909090909092,\n",
       " 'Grover': 0.9090909090909092,\n",
       " 'Percy': 0.8636363636363636,\n",
       " 'Chiron': 0.7727272727272727,\n",
       " 'Ares': 0.7272727272727273,\n",
       " 'Hades': 0.7272727272727273,\n",
       " 'Poseidon': 0.6818181818181819,\n",
       " 'Zeus': 0.6818181818181819,\n",
       " 'Athena': 0.6818181818181819,\n",
       " 'Luke': 0.5909090909090909,\n",
       " 'Gabe': 0.5454545454545454,\n",
       " 'Clarisse': 0.5,\n",
       " 'Oracle': 0.4545454545454546,\n",
       " 'Minotaur': 0.4545454545454546,\n",
       " 'Thalia': 0.4090909090909091,\n",
       " 'Aphrodite': 0.4090909090909091,\n",
       " 'Demeter': 0.4090909090909091,\n",
       " 'Furies': 0.3181818181818182,\n",
       " 'Sally': 0.3181818181818182,\n",
       " 'Medusa': 0.2272727272727273,\n",
       " 'Hera': 0.18181818181818182,\n",
       " 'Tyson': 0.13636363636363635,\n",
       " 'Hestia': 0.09090909090909091}"
      ]
     },
     "execution_count": 21,
     "metadata": {},
     "output_type": "execute_result"
    }
   ],
   "source": [
    "dict(sorted(degree_centrality.items(), key=itemgetter(1), reverse=True))\n"
   ]
  },
  {
   "cell_type": "code",
   "execution_count": 19,
   "metadata": {},
   "outputs": [],
   "source": [
    "from operator import itemgetter"
   ]
  },
  {
   "cell_type": "code",
   "execution_count": 20,
   "metadata": {},
   "outputs": [
    {
     "data": {
      "text/plain": [
       "{'Annabeth': 0.9166666666666666,\n",
       " 'Grover': 0.9166666666666666,\n",
       " 'Percy': 0.88,\n",
       " 'Chiron': 0.8148148148148148,\n",
       " 'Ares': 0.7857142857142857,\n",
       " 'Hades': 0.7857142857142857,\n",
       " 'Poseidon': 0.7586206896551724,\n",
       " 'Zeus': 0.7586206896551724,\n",
       " 'Athena': 0.7586206896551724,\n",
       " 'Luke': 0.7096774193548387,\n",
       " 'Gabe': 0.6666666666666666,\n",
       " 'Clarisse': 0.6470588235294118,\n",
       " 'Oracle': 0.6470588235294118,\n",
       " 'Thalia': 0.6285714285714286,\n",
       " 'Minotaur': 0.6285714285714286,\n",
       " 'Aphrodite': 0.6285714285714286,\n",
       " 'Demeter': 0.6285714285714286,\n",
       " 'Furies': 0.5945945945945946,\n",
       " 'Sally': 0.5641025641025641,\n",
       " 'Medusa': 0.5365853658536586,\n",
       " 'Tyson': 0.5238095238095238,\n",
       " 'Hera': 0.5238095238095238,\n",
       " 'Hestia': 0.4583333333333333}"
      ]
     },
     "execution_count": 20,
     "metadata": {},
     "output_type": "execute_result"
    }
   ],
   "source": [
    "dict(sorted(closeness_centrality.items(), key=itemgetter(1), reverse=True))\n"
   ]
  },
  {
   "cell_type": "code",
   "execution_count": 22,
   "metadata": {},
   "outputs": [
    {
     "data": {
      "text/plain": [
       "{'Annabeth': 0.0873155414599265,\n",
       " 'Grover': 0.0873155414599265,\n",
       " 'Zeus': 0.08702125478290489,\n",
       " 'Chiron': 0.05854640295052823,\n",
       " 'Percy': 0.05816691231129733,\n",
       " 'Demeter': 0.03832595480800217,\n",
       " 'Hades': 0.02994602799797605,\n",
       " 'Poseidon': 0.02846841215825173,\n",
       " 'Ares': 0.028021713735999456,\n",
       " 'Athena': 0.024984438219732338,\n",
       " 'Gabe': 0.007235621521335807,\n",
       " 'Luke': 0.006438535009963581,\n",
       " 'Minotaur': 0.0036762179619322477,\n",
       " 'Furies': 0.0033330503918739215,\n",
       " 'Oracle': 0.0025958409075292187,\n",
       " 'Clarisse': 0.001875901875901876,\n",
       " 'Aphrodite': 0.0016405552119837833,\n",
       " 'Hera': 0.0016405552119837833,\n",
       " 'Sally': 0.0007936507936507938,\n",
       " 'Medusa': 0.0006184291898577612,\n",
       " 'Hestia': 0.00048100048100048096,\n",
       " 'Thalia': 0.0,\n",
       " 'Tyson': 0.0}"
      ]
     },
     "execution_count": 22,
     "metadata": {},
     "output_type": "execute_result"
    }
   ],
   "source": [
    "dict(sorted(betweenness_centrality.items(), key=itemgetter(1), reverse=True))\n"
   ]
  },
  {
   "cell_type": "code",
   "execution_count": 24,
   "metadata": {},
   "outputs": [
    {
     "name": "stdout",
     "output_type": "stream",
     "text": [
      "Modularidade da rede: 0.08640381083562901\n"
     ]
    }
   ],
   "source": [
    "import community as community_louvain\n",
    "partition = community_louvain.best_partition(G)\n",
    "\n",
    "# Calcular a modularidade\n",
    "modularity = community_louvain.modularity(partition, G)\n",
    "print(\"Modularidade da rede:\", modularity)"
   ]
  },
  {
   "cell_type": "code",
   "execution_count": 25,
   "metadata": {},
   "outputs": [
    {
     "name": "stdout",
     "output_type": "stream",
     "text": [
      "Diâmetro da rede: 3\n"
     ]
    }
   ],
   "source": [
    "diameter = nx.diameter(G)\n",
    "print(\"Diâmetro da rede:\", diameter)"
   ]
  },
  {
   "cell_type": "code",
   "execution_count": 26,
   "metadata": {},
   "outputs": [
    {
     "name": "stdout",
     "output_type": "stream",
     "text": [
      "Comprimento médio do menor caminho da rede: 1.5098814229249011\n"
     ]
    }
   ],
   "source": [
    "if nx.is_connected(G):\n",
    "    average_shortest_path_length = nx.average_shortest_path_length(G)\n",
    "    print(\"Comprimento médio do menor caminho da rede:\", average_shortest_path_length)\n",
    "else:\n",
    "    # Se o grafo não for conexo, calcular para cada componente conectado\n",
    "    lengths = [nx.average_shortest_path_length(component) for component in nx.connected_components(G)]\n",
    "    print(\"Comprimento médio do menor caminho para componentes conectados:\", lengths)"
   ]
  },
  {
   "cell_type": "code",
   "execution_count": 27,
   "metadata": {},
   "outputs": [
    {
     "name": "stdout",
     "output_type": "stream",
     "text": [
      "Coeficiente de aglomeração para cada nó: {'Annabeth': 0.5578947368421052, 'Grover': 0.5578947368421052, 'Percy': 0.6081871345029239, 'Chiron': 0.6397058823529411, 'Poseidon': 0.7428571428571429, 'Zeus': 0.6190476190476191, 'Ares': 0.6916666666666667, 'Luke': 0.8589743589743589, 'Hades': 0.675, 'Furies': 0.8571428571428571, 'Athena': 0.7238095238095238, 'Clarisse': 0.9272727272727272, 'Gabe': 0.8181818181818182, 'Oracle': 0.9111111111111111, 'Medusa': 0.9, 'Thalia': 1.0, 'Minotaur': 0.8666666666666667, 'Aphrodite': 0.9166666666666666, 'Sally': 0.9047619047619048, 'Tyson': 1.0, 'Demeter': 0.5555555555555556, 'Hera': 0.5, 'Hestia': 0}\n"
     ]
    }
   ],
   "source": [
    "clustering_coeffs = nx.clustering(G)\n",
    "print(\"Coeficiente de aglomeração para cada nó:\", clustering_coeffs)"
   ]
  },
  {
   "cell_type": "code",
   "execution_count": 28,
   "metadata": {},
   "outputs": [
    {
     "name": "stdout",
     "output_type": "stream",
     "text": [
      "Coeficiente de aglomeração médio da rede: 0.7318433525762912\n"
     ]
    }
   ],
   "source": [
    "average_clustering = nx.average_clustering(G)\n",
    "print(\"Coeficiente de aglomeração médio da rede:\", average_clustering)"
   ]
  },
  {
   "cell_type": "code",
   "execution_count": 29,
   "metadata": {},
   "outputs": [
    {
     "name": "stdout",
     "output_type": "stream",
     "text": [
      "Número de componentes conectados: 1\n"
     ]
    }
   ],
   "source": [
    "components = list(nx.connected_components(G))\n",
    "num_components = len(components)\n",
    "\n",
    "print(f\"Número de componentes conectados: {num_components}\")"
   ]
  },
  {
   "cell_type": "code",
   "execution_count": null,
   "metadata": {},
   "outputs": [],
   "source": [
    "print(\"Coeficiente de aglomeração médio da rede:\", average_clustering)\n",
    "print(f\"Número de componentes conectados: {num_components}\")"
   ]
  }
 ],
 "metadata": {
  "kernelspec": {
   "display_name": "Python 3",
   "language": "python",
   "name": "python3"
  },
  "language_info": {
   "codemirror_mode": {
    "name": "ipython",
    "version": 3
   },
   "file_extension": ".py",
   "mimetype": "text/x-python",
   "name": "python",
   "nbconvert_exporter": "python",
   "pygments_lexer": "ipython3",
   "version": "3.9.13"
  }
 },
 "nbformat": 4,
 "nbformat_minor": 2
}
